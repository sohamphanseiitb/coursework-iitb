{
 "cells": [
  {
   "cell_type": "markdown",
   "metadata": {},
   "source": [
    "## Without Single Ramp Expansion"
   ]
  },
  {
   "cell_type": "code",
   "execution_count": 5,
   "metadata": {},
   "outputs": [
    {
     "data": {
      "image/png": "[encoded data removed]",
      "text/plain": [
       "<Figure size 432x288 with 1 Axes>"
      ]
     },
     "metadata": {
      "needs_background": "light"
     },
     "output_type": "display_data"
    }
   ],
   "source": [
    "'''Author: Soham S. Phanse\n",
    "Roll number: 19D170030\n",
    "Department of Aerospace Engineering\n",
    "Indian Institute of Technology Bombay\n",
    "AE223 - Scramjet Engine Analysis\n",
    "We have a diverging area nozzle with the midplane as a solid wall due to the\n",
    "waverider configuration. Now here we assume that the area profile contour is linear\n",
    "with respect to the axial dimension. We treat the flow to be quasi-one-dimensional.\n",
    "Hence we neglect any type of 2 dimensionality due to boundayr layers, friction.\n",
    "Also, we assume that the nozzle walls are adiabatic and W_external = 0.'''\n",
    "import numpy as np\n",
    "import matplotlib.pyplot as plt\n",
    "## Let us first fix the axis of observation.\n",
    "x_axis = np.linspace(0,1,100)\n",
    "\n",
    "## Let us consider the ramp angle of the nozzle be \\theta. Also let us consider the\n",
    "## throat area is A* (area where M=1). Considering x = 0 at the point where the flow\n",
    "## enters the nozzle, we get that the A(x) =  A(0) + xtan(theta)\n",
    "theta = np.pi/9 # 20 degrees\n",
    "A_entry = 0.5 # Area of cross section at the nozzle entry\n",
    "Area = A_entry + x_axis*np.tan(theta)\n",
    "#plt.plot(x_axis,Area,label=\"Scramjet Ramp contour\")\n",
    "#plt.plot(x_axis, 0*np.ones_like(x_axis), label=\"Midplane\")\n",
    "\n",
    "'''We cinsider the catchment area of the scramjet to be the height of the intake.\n",
    "Let Height = 1 and hence catchment area = 1. Also, we have that the height of the throat\n",
    "is the height of the combustor section of the scramjet. Hence A* = throat Height\n",
    "\n",
    "If we consider the combustor to be almost of uniform cross section we can conclude\n",
    "that the throat area is equal to the area at the nozzle entry.'''\n",
    "\n",
    "Astar = A_entry\n",
    "\n",
    "###### To relate the the area and mach number of a location we use the following relation\n",
    "###### We plot it in a different by taking mach numbers as known and area of cross section as unknown.\n",
    "gamma = 1.4 ###### Cp/Cv ratio of the gas, constant\n",
    "Mach = np.linspace(1,7,100)\n",
    "A = (Astar/Mach)*((2/gamma + 1)*(1 + ((gamma-1)*Mach*Mach/2)))**(gamma + 1/(2*(gamma - 1)))\n",
    "#-----> plt.plot(Mach, A)\n",
    "#-----> plt.xlabel(\"Mach number \\u2192\")\n",
    "#-----> plt.ylabel(\"Area of cross section \\u2192\")\n",
    "#-----> plt.title(\" Mach number variation with Area of cross section of diverging nozzle\")\n",
    "#-----> plt.show()\n",
    "\n",
    "## What we generally do is, we take an area profile as a function of x, then we\n",
    "## use the formula to find the Mach number at loaction x. However what we do here is we first fix the\n",
    "## mach number profile we want i.e M(0) = 1 and M(1) = 5 [length of the nozzle is say 1]\n",
    "## then we set the mach number from 1 to 7 (say) and then find the area profile and to make the area profile\n",
    "## linear we relate it to the x_axis equation. And if we want the area relation to hold then we need to\n",
    "## take as given the mach number variation with loaction which can be or cannot be possible.\n",
    "\n",
    "#### If we assume that at x=0 i.e at the combustor entry we have mach number = 1\n",
    "#### and we want to have the mach number at the nozzle exit as 5. The exit area is constrained\n",
    "#### by the catchment area of the nozzle ie. 1. Hence we have A_exit = 1 and A_entry = 0.5, M_entry = 1\n",
    "#### and M_exit = 5. Also we have A(x) =  A(0) + x*tan(theta)\n",
    "#### Hence we can substitute in the above formula to get the Mach number variation along the x_axis\n",
    "def x(functiontheta):\n",
    "    return (A - A_entry)/np.tan(functiontheta)\n",
    "#-----> plt.plot(x(np.pi/9), Mach, label=\"theta = 20\") ## theta is the nozzle ramp angle\n",
    "#-----> plt.plot(x(np.pi/6), Mach, label=\"theta = 30\")\n",
    "#-----> plt.xlabel(\"position along the axis \\u2192\")\n",
    "#-----> plt.ylabel(\"Mach number \\u2192\")\n",
    "#-----> plt.title(\" Mach variation with position along axis of nozzle for different values of \\u0393\")\n",
    "#-----> plt.legend()\n",
    "#-----> plt.show()\n",
    "\n",
    "## We can easily that with a linear area profile it is practically impossible to have\n",
    "## such a long nozzle, hence with a linear area profile we have some limitations so as to\n",
    "## how much we can expand and achieve a high mach number jet.\n",
    "\n",
    "#### Let us calculate what we can do with the existing area profile, where,\n",
    "#### A(0) = A_entry = Astar =  A_throat = 0.5 and A(1) = 0.5 + tan(theta)\n",
    "#### assuming the nozzle length = 1. And M(0) = 1 (assuming sonic flow at the combustor exit)\n",
    "## we get, (1 +  2tan(theta))**(1/3) = (5*(M_exit )**(-1/3))/6 + M**(5/3)/6\n",
    "## We now plot the variation of the mach number at exit with ramp angle\n",
    "\n",
    "#### However we have a limit on the A_exit i.e A(1) = area of catchment area. Hence the\n",
    "#### maximum value of A_exit of nozzle is 1. Hence A(1) = A(0) + 1*tan(theta)\n",
    "#### 1 = 0.5 + tan(theta); tan(theta) = 0.5\n",
    "#### As tan(theta) is an increasing function from 0 to pi/2 we get that,\n",
    "#### theta_max = arctan(0.5)\n",
    "\n",
    "M_exit = np.linspace(1,3,100)\n",
    "theta_1 = np.arctan(0.5*((1+0.2*(M_exit**2))/(1.2*(M_exit**(1/3))))**3 - 0.5)\n",
    "dummy = 0.5*((1+0.2*(M_exit**2))/(1.2*(M_exit**(1/3))))**3 - 0.5\n",
    "plt.plot(dummy, M_exit, label=\"M_exit versus Tan of Ramp angle\")\n",
    "plt.plot(0.5*np.ones_like(M_exit), M_exit, label=\"maximum possible Tangent of Ramp angle\")\n",
    "plt.ylabel(\"Mach number at nozzle exit\")\n",
    "plt.xlabel(\"Tangent of Nozzle Ramp angle\")\n",
    "plt.title(\"Mach number at nozzle exit versus Ramp angle with a linear area variation\")\n",
    "plt.show()\n",
    "\n",
    "### The intersection of the two plots gives us the maximum possible mach number\n",
    "### at the Nozzle exit under the given assumptions and considerations. Hence we can conclude\n",
    "### that under the given conditions the maximum possible mach number which can be achieved at the nozzle exit\n",
    "### is around 2 ~ 2.5\n",
    "\n",
    "##----------------------------THE END------------------------------------------\n",
    "\n",
    "# A4 = 0.5\n",
    "# A5 = A4 + xtan(theta)\n",
    "# cowl_length = 1m\n",
    "# M4 = 1\n",
    "# Throat Area = A4 = 0.5\n",
    "# M5 = formula\n"
   ]
  },
  {
   "cell_type": "code",
   "execution_count": 66,
   "metadata": {},
   "outputs": [],
   "source": [
    "A4 = 0.5\n",
    "A5 = 1.0\n",
    "M4 = 1\n",
    "M5 = np.linspace(1,7,100)\n",
    "gamma = 1.4\n",
    "area_ratio = (M4/M5)*(((1+((gamma-1)/2)*M5**2)/(1+((gamma-1)/2)*M4**2))**((gamma+1)/(2*(gamma-1))))"
   ]
  },
  {
   "cell_type": "code",
   "execution_count": 67,
   "metadata": {},
   "outputs": [
    {
     "data": {
      "text/plain": [
       "array([], dtype=float64)"
      ]
     },
     "execution_count": 67,
     "metadata": {},
     "output_type": "execute_result"
    }
   ],
   "source": [
    "area_ratio[np.where(M5==2.2)]"
   ]
  },
  {
   "cell_type": "code",
   "execution_count": 68,
   "metadata": {},
   "outputs": [
    {
     "data": {
      "text/plain": [
       "Text(0, 0.5, 'Mach number')"
      ]
     },
     "execution_count": 68,
     "metadata": {},
     "output_type": "execute_result"
    },
    {
     "data": {
      "image/png": "[encoded data removed]",
      "text/plain": [
       "<Figure size 432x288 with 1 Axes>"
      ]
     },
     "metadata": {
      "needs_background": "light"
     },
     "output_type": "display_data"
    }
   ],
   "source": [
    "plt.plot(area_ratio, M5)\n",
    "plt.axvline(x=4.0, color='r')\n",
    "plt.axhline(y=2.94, color = 'g')\n",
    "plt.xlabel('Area Ratio')\n",
    "plt.ylabel('Mach number')"
   ]
  },
  {
   "cell_type": "code",
   "execution_count": 72,
   "metadata": {},
   "outputs": [],
   "source": [
    "tot_t = 300 # FIND ACTUAL VALUE\n",
    "tot_p = 100 # FIND ACTUAL VALUE\n",
    "R = 287\n",
    "p_0 = 1 # p_0 is the ambient pressure = 1atm\n",
    "m_dot = ((A4*tot_p)/np.sqrt(tot_t))*(np.sqrt(gamma/R))*(((gamma+1)/2)**(-(gamma+1)/(2*(gamma-1))))\n",
    "exit_t = tot_t/(1+((gamma-1)/2*(M5**2)))\n",
    "exit_p = tot_p/((1+(((gamma-1)/2)*(M5**2)))**(gamma/(gamma-1)))\n",
    "exit_area = area_ratio*A4\n",
    "exit_vel = M5*np.sqrt(gamma*R*exit_t)\n",
    "thrust = m_dot*exit_vel + (exit_p-p_0)*exit_area"
   ]
  },
  {
   "cell_type": "code",
   "execution_count": 73,
   "metadata": {
    "scrolled": true
   },
   "outputs": [
    {
     "data": {
      "text/plain": [
       "[<matplotlib.lines.Line2D at 0x7fbd6e080650>]"
      ]
     },
     "execution_count": 73,
     "metadata": {},
     "output_type": "execute_result"
    },
    {
     "data": {
      "image/png": "[encoded data removed]",
      "text/plain": [
       "<Figure size 432x288 with 1 Axes>"
      ]
     },
     "metadata": {
      "needs_background": "light"
     },
     "output_type": "display_data"
    }
   ],
   "source": [
    "plt.plot(M5,thrust)"
   ]
  },
  {
   "cell_type": "markdown",
   "metadata": {},
   "source": [
    "## SERN - Single Expansion Ramp Nozzle"
   ]
  },
  {
   "cell_type": "code",
   "execution_count": null,
   "metadata": {},
   "outputs": [],
   "source": [
    "epsilon = np.linspace(0,1,10)\n",
    "A4 = 0.5\n",
    "A5 = 1.0\n",
    "M4 = 1\n",
    "gamma = 1.4\n",
    "\n",
    "# maximum allowable area without SERN was 1 meter sq. \n",
    "A5_new = A5 + epsilon*A5\n",
    "M5 = np.linspace(1,3,100)\n",
    "A5"
   ]
  }
 ],
 "metadata": {
  "kernelspec": {
   "display_name": "Python 3",
   "language": "python",
   "name": "python3"
  },
  "language_info": {
   "codemirror_mode": {
    "name": "ipython",
    "version": 3
   },
   "file_extension": ".py",
   "mimetype": "text/x-python",
   "name": "python",
   "nbconvert_exporter": "python",
   "pygments_lexer": "ipython3",
   "version": "3.7.4"
  }
 },
 "nbformat": 4,
 "nbformat_minor": 2
}
