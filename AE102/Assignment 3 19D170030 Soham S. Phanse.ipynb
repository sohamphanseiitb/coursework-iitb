{
 "cells": [
  {
   "cell_type": "markdown",
   "metadata": {},
   "source": [
    "## AE102 Data Analysis and Implementation - Spring 2021\n",
    "---\n",
    "### Assignment 03\n",
    "---\n",
    "#### Soham S. Phanse, 19D170030\n",
    "---"
   ]
  },
  {
   "cell_type": "code",
   "execution_count": 1,
   "metadata": {},
   "outputs": [],
   "source": [
    "# Library Imports\n",
    "\n",
    "## Basic imports\n",
    "%matplotlib inline\n",
    "import numpy as np\n",
    "import pandas as pd\n",
    "\n",
    "## Interact functionality imported\n",
    "from ipywidgets import interact, interactive, fixed, interact_manual\n",
    "import ipywidgets as widgets\n",
    "\n",
    "## Scipy imports\n",
    "from scipy.stats import describe as d\n",
    "from scipy.stats import norm"
   ]
  },
  {
   "cell_type": "code",
   "execution_count": 2,
   "metadata": {},
   "outputs": [],
   "source": [
    "#import the csv file, pandas will read the file in the dataframe df\n",
    "df = pd.read_csv('sslc_small.csv', sep=';')"
   ]
  },
  {
   "cell_type": "code",
   "execution_count": 3,
   "metadata": {},
   "outputs": [],
   "source": [
    "df1 = df['region'].value_counts()"
   ]
  },
  {
   "cell_type": "code",
   "execution_count": 4,
   "metadata": {},
   "outputs": [
    {
     "data": {
      "image/png": "[encoded data removed]",
      "text/plain": [
       "<Figure size 432x288 with 1 Axes>"
      ]
     },
     "metadata": {},
     "output_type": "display_data"
    }
   ],
   "source": [
    "# Pie plot\n",
    "df1.plot.pie(y='region');"
   ]
  },
  {
   "cell_type": "markdown",
   "metadata": {},
   "source": [
    "### Box Plots"
   ]
  },
  {
   "cell_type": "code",
   "execution_count": 5,
   "metadata": {},
   "outputs": [
    {
     "data": {
      "text/plain": [
       "<matplotlib.axes._subplots.AxesSubplot at 0x7feacc688700>"
      ]
     },
     "execution_count": 5,
     "metadata": {},
     "output_type": "execute_result"
    },
    {
     "data": {
      "image/png": "[encoded data removed]",
      "text/plain": [
       "<Figure size 432x288 with 1 Axes>"
      ]
     },
     "metadata": {
      "needs_background": "light"
     },
     "output_type": "display_data"
    }
   ],
   "source": [
    "# Trial boxplots for 'fl' of region 'A' in dataframe df\n",
    "df1 = df[(df.region=='A')]\n",
    "df.boxplot(column='fl')"
   ]
  },
  {
   "cell_type": "code",
   "execution_count": 6,
   "metadata": {},
   "outputs": [],
   "source": [
    "# Function box_plot()\n",
    "\n",
    "## Inputs : name of the region\n",
    "### Allowed parameters : any string \n",
    "### Special parameters : 'all', plots boxplots for all regions, not case sensitive\n",
    "\n",
    "## Outputs : boxplots of all subject marks\n",
    "\n",
    "def box_plot(region):\n",
    "    global store\n",
    "    if region.lower()=='all':\n",
    "        store = df['region'].value_counts()\n",
    "        for each in store.index:\n",
    "            df1 = df[(df.region==each)]\n",
    "            df1.boxplot(column=['fl','sl','math','sci','ss'])\n",
    "    else:\n",
    "        df1 = df[(df.region == region)]\n",
    "        df1.boxplot(column=['fl', 'sl', 'math','sci','ss'])\n",
    "    \n",
    "#box_plot('A')"
   ]
  },
  {
   "cell_type": "code",
   "execution_count": 7,
   "metadata": {},
   "outputs": [],
   "source": [
    "df2 = df[(df.region == 'A')]"
   ]
  },
  {
   "cell_type": "markdown",
   "metadata": {},
   "source": [
    "### ```interact``` in Jupyter"
   ]
  },
  {
   "cell_type": "code",
   "execution_count": 8,
   "metadata": {},
   "outputs": [
    {
     "data": {
      "application/vnd.jupyter.widget-view+json": {
       "model_id": "941b5fb2cb354253b556d4d766eed39a",
       "version_major": 2,
       "version_minor": 0
      },
      "text/plain": [
       "interactive(children=(Text(value='A', description='region'), Output()), _dom_classes=('widget-interact',))"
      ]
     },
     "metadata": {},
     "output_type": "display_data"
    },
    {
     "data": {
      "text/plain": [
       "<function __main__.box_plot(region)>"
      ]
     },
     "execution_count": 8,
     "metadata": {},
     "output_type": "execute_result"
    }
   ],
   "source": [
    "interact(box_plot, region='A')"
   ]
  },
  {
   "cell_type": "markdown",
   "metadata": {},
   "source": [
    "### Exploring ```DataFrame.corr``` function"
   ]
  },
  {
   "cell_type": "code",
   "execution_count": 9,
   "metadata": {},
   "outputs": [],
   "source": [
    "storage = df.columns[3:-4]\n",
    "storage = df[storage]"
   ]
  },
  {
   "cell_type": "code",
   "execution_count": 10,
   "metadata": {},
   "outputs": [
    {
     "data": {
      "text/html": [
       "<div>\n",
       "<style scoped>\n",
       "    .dataframe tbody tr th:only-of-type {\n",
       "        vertical-align: middle;\n",
       "    }\n",
       "\n",
       "    .dataframe tbody tr th {\n",
       "        vertical-align: top;\n",
       "    }\n",
       "\n",
       "    .dataframe thead th {\n",
       "        text-align: right;\n",
       "    }\n",
       "</style>\n",
       "<table border=\"1\" class=\"dataframe\">\n",
       "  <thead>\n",
       "    <tr style=\"text-align: right;\">\n",
       "      <th></th>\n",
       "      <th>fl</th>\n",
       "      <th>sl</th>\n",
       "      <th>math</th>\n",
       "      <th>sci</th>\n",
       "      <th>ss</th>\n",
       "    </tr>\n",
       "  </thead>\n",
       "  <tbody>\n",
       "    <tr>\n",
       "      <th>fl</th>\n",
       "      <td>1.000000</td>\n",
       "      <td>0.802033</td>\n",
       "      <td>0.799870</td>\n",
       "      <td>0.817077</td>\n",
       "      <td>0.845586</td>\n",
       "    </tr>\n",
       "    <tr>\n",
       "      <th>sl</th>\n",
       "      <td>0.802033</td>\n",
       "      <td>1.000000</td>\n",
       "      <td>0.853155</td>\n",
       "      <td>0.791688</td>\n",
       "      <td>0.834922</td>\n",
       "    </tr>\n",
       "    <tr>\n",
       "      <th>math</th>\n",
       "      <td>0.799870</td>\n",
       "      <td>0.853155</td>\n",
       "      <td>1.000000</td>\n",
       "      <td>0.799427</td>\n",
       "      <td>0.807751</td>\n",
       "    </tr>\n",
       "    <tr>\n",
       "      <th>sci</th>\n",
       "      <td>0.817077</td>\n",
       "      <td>0.791688</td>\n",
       "      <td>0.799427</td>\n",
       "      <td>1.000000</td>\n",
       "      <td>0.839956</td>\n",
       "    </tr>\n",
       "    <tr>\n",
       "      <th>ss</th>\n",
       "      <td>0.845586</td>\n",
       "      <td>0.834922</td>\n",
       "      <td>0.807751</td>\n",
       "      <td>0.839956</td>\n",
       "      <td>1.000000</td>\n",
       "    </tr>\n",
       "  </tbody>\n",
       "</table>\n",
       "</div>"
      ],
      "text/plain": [
       "            fl        sl      math       sci        ss\n",
       "fl    1.000000  0.802033  0.799870  0.817077  0.845586\n",
       "sl    0.802033  1.000000  0.853155  0.791688  0.834922\n",
       "math  0.799870  0.853155  1.000000  0.799427  0.807751\n",
       "sci   0.817077  0.791688  0.799427  1.000000  0.839956\n",
       "ss    0.845586  0.834922  0.807751  0.839956  1.000000"
      ]
     },
     "execution_count": 10,
     "metadata": {},
     "output_type": "execute_result"
    }
   ],
   "source": [
    "storage.corr('pearson')"
   ]
  },
  {
   "cell_type": "markdown",
   "metadata": {},
   "source": [
    "### Confidence Intervals"
   ]
  },
  {
   "cell_type": "markdown",
   "metadata": {},
   "source": [
    "#### Approach 1\n",
    "---\n",
    "- Here, we assume a normal distribution of the average marks \n",
    "- Now, for the next parts of the question we pick up region 'A' and subject 'fl'. \n",
    "- We take the confidence interval of 95%\n",
    "- Before proceeding further we will calculate the true mean and standard deviation of the data of ***fl*** in region ***A***.\n",
    "- We have sample size of 100."
   ]
  },
  {
   "cell_type": "code",
   "execution_count": 34,
   "metadata": {},
   "outputs": [],
   "source": [
    "garage2 = df[df.columns[0:4:3]]\n",
    "garage3 = garage2[(garage2.region == 'A')]\n",
    "garage4 = garage3.columns\n",
    "scores = garage4[-1]"
   ]
  },
  {
   "cell_type": "code",
   "execution_count": 21,
   "metadata": {},
   "outputs": [],
   "source": [
    "mu = garage3[scores].mean()\n",
    "var = garage3[scores].var()\n",
    "std = np.sqrt(var)"
   ]
  },
  {
   "cell_type": "markdown",
   "metadata": {},
   "source": [
    "By the fundamental definition of confidence intervals in standard normal distributions we have the following results. \n",
    "\n",
    "$$ (\\bar{x} - z^*\\frac{\\sigma}{\\sqrt{n}} ,\\bar{x} + z^*\\frac{\\sigma}{\\sqrt{n}}) \\hspace{10pt} Confidence \\hspace{2pt} interval$$\n",
    "\n",
    "Here, $\\bar{x}$ is the sample mean. $z^*$ is defined as follows\n",
    "\n",
    "$$ z^* = \\phi^{-1}(1 - \\frac{\\alpha}{2}) $$\n",
    "\n",
    "Here, $\\phi$ is the Cumulative distribution function of the standard normal distribution. $C$ is the confidence interval in $\\%$, in our case we have $C = 95\\%$. Also $C = 100(1 - \\alpha)\\%$. Hence we have $\\alpha = 0.05$."
   ]
  },
  {
   "cell_type": "code",
   "execution_count": 22,
   "metadata": {},
   "outputs": [
    {
     "name": "stdout",
     "output_type": "stream",
     "text": [
      "(57.47773,63.88227 )\n"
     ]
    }
   ],
   "source": [
    "z = norm(0, 1)\n",
    "alpha = 0.05\n",
    "z_star = z.ppf(1 - 0.5*alpha) # computes the inverse of the CDF\n",
    "sample_size = 100 # sample size\n",
    "sum = 0    \n",
    "\n",
    "# Compute sample mean\n",
    "for i in range(sample_size):\n",
    "    sum = sum + garage3[scores][np.random.randint(len(garage3[scores]))]\n",
    "sample_mean = sum/sample_size\n",
    "\n",
    "## Confidence interval\n",
    "### Lower limit \n",
    "l = sample_mean - (z_star*std/np.sqrt(sample_size))\n",
    "\n",
    "### Upper limit\n",
    "u = sample_mean + (z_star*std/np.sqrt(sample_size))\n",
    "\n",
    "### Rouding off for better readability\n",
    "print('(' + str(l.round(5)) + ','+ str(u.round(5)), ')')"
   ]
  },
  {
   "cell_type": "markdown",
   "metadata": {},
   "source": [
    "#### Approach 2\n",
    "---\n",
    "- Here, we conduct 1000 experiments. Each experiment consists of 100 samples. \n",
    "- We calculate the mean in the each of the experiement and prepare an estimated distribution of these. And then we use the ```np.percentile()```. "
   ]
  },
  {
   "cell_type": "code",
   "execution_count": 23,
   "metadata": {},
   "outputs": [],
   "source": [
    "# Compute sample mean for 1 experiment\n",
    "# define sum = 0\n",
    "sum = 0\n",
    "\n",
    "def mean_exp(sample_size=100):\n",
    "    global sum\n",
    "    for i in range(sample_size):\n",
    "        sum = sum + garage3[scores][np.random.randint(len(garage3[scores]))]\n",
    "    sample_mean = sum/sample_size\n",
    "    sum = 0\n",
    "    return sample_mean\n",
    "\n",
    "means = [] \n",
    "# Conduct the whole set of experiments\n",
    "def exp(number_of_samples=1000, sample_size=100):\n",
    "    for i in range(number_of_samples):\n",
    "        means.append(mean_exp(sample_size))\n",
    "\n",
    "exp()"
   ]
  },
  {
   "cell_type": "code",
   "execution_count": 24,
   "metadata": {},
   "outputs": [],
   "source": [
    "lower, upper = np.percentile(means, [2.5, 97.5])"
   ]
  },
  {
   "cell_type": "code",
   "execution_count": 25,
   "metadata": {},
   "outputs": [
    {
     "name": "stdout",
     "output_type": "stream",
     "text": [
      "(59.88975,65.96025 )\n"
     ]
    }
   ],
   "source": [
    "print('(' + str(lower.round(5)) + ','+ str(upper.round(5)), ')')"
   ]
  },
  {
   "cell_type": "markdown",
   "metadata": {},
   "source": [
    "##### Comparing the values we got from both the approaches"
   ]
  },
  {
   "cell_type": "code",
   "execution_count": 26,
   "metadata": {},
   "outputs": [],
   "source": [
    "d = {'Approach 1': [l, u], 'Approach 2': [lower, upper]}"
   ]
  },
  {
   "cell_type": "code",
   "execution_count": 27,
   "metadata": {},
   "outputs": [],
   "source": [
    "df4 = pd.DataFrame(d, index=['Lower', 'Upper'])"
   ]
  },
  {
   "cell_type": "code",
   "execution_count": 28,
   "metadata": {},
   "outputs": [
    {
     "name": "stdout",
     "output_type": "stream",
     "text": [
      "The comparison between Approach 1 and Approach 2 \n",
      "\n"
     ]
    }
   ],
   "source": [
    "print('The comparison between Approach 1 and Approach 2 \\n')"
   ]
  },
  {
   "cell_type": "code",
   "execution_count": 30,
   "metadata": {},
   "outputs": [
    {
     "data": {
      "text/html": [
       "<div>\n",
       "<style scoped>\n",
       "    .dataframe tbody tr th:only-of-type {\n",
       "        vertical-align: middle;\n",
       "    }\n",
       "\n",
       "    .dataframe tbody tr th {\n",
       "        vertical-align: top;\n",
       "    }\n",
       "\n",
       "    .dataframe thead th {\n",
       "        text-align: right;\n",
       "    }\n",
       "</style>\n",
       "<table border=\"1\" class=\"dataframe\">\n",
       "  <thead>\n",
       "    <tr style=\"text-align: right;\">\n",
       "      <th></th>\n",
       "      <th>Approach 1</th>\n",
       "      <th>Approach 2</th>\n",
       "    </tr>\n",
       "  </thead>\n",
       "  <tbody>\n",
       "    <tr>\n",
       "      <th>Lower</th>\n",
       "      <td>57.477726</td>\n",
       "      <td>59.88975</td>\n",
       "    </tr>\n",
       "    <tr>\n",
       "      <th>Upper</th>\n",
       "      <td>63.882274</td>\n",
       "      <td>65.96025</td>\n",
       "    </tr>\n",
       "  </tbody>\n",
       "</table>\n",
       "</div>"
      ],
      "text/plain": [
       "       Approach 1  Approach 2\n",
       "Lower   57.477726    59.88975\n",
       "Upper   63.882274    65.96025"
      ]
     },
     "execution_count": 30,
     "metadata": {},
     "output_type": "execute_result"
    }
   ],
   "source": [
    "df4"
   ]
  },
  {
   "cell_type": "code",
   "execution_count": 33,
   "metadata": {},
   "outputs": [
    {
     "name": "stdout",
     "output_type": "stream",
     "text": [
      "The true mean is: 62.778\n"
     ]
    }
   ],
   "source": [
    "print('The true mean is: ' + str(mu.round(3)))"
   ]
  },
  {
   "cell_type": "markdown",
   "metadata": {},
   "source": [
    "### Creating  function ```confidence``` which does everything in 1 shot!"
   ]
  },
  {
   "cell_type": "code",
   "execution_count": 89,
   "metadata": {
    "scrolled": false
   },
   "outputs": [
    {
     "name": "stdout",
     "output_type": "stream",
     "text": [
      "________________________________________________________________\n",
      "These are the parameters which have been initialized by the user \n",
      " Region: A\n",
      " Subject: fl\n",
      " Sample Size = 100\n",
      " Number of Samples = 1000\n",
      " Confidence Level = 95\n",
      "\n",
      "________________________________________________________________\n",
      "The confidence interval with Approach 1 is (61.17773,67.58227)\n",
      "The confidence interval with Approach 2 is (59.70925,65.70025)\n",
      "\n",
      "\n",
      "\n",
      "________________________________________________________________\n",
      "       Approach 1  Approach 2\n",
      "Lower   61.177726    59.70925\n",
      "Upper   67.582274    65.70025\n"
     ]
    }
   ],
   "source": [
    "# Sum variables for Approach 1 and 2\n",
    "suma1, suma2, mean_sum, means = 0, 0, 0, []\n",
    "\n",
    "def mean_experiment(arr, sample_size = 100):\n",
    "    global mean_sum\n",
    "    for i in range(sample_size):\n",
    "        mean_sum = mean_sum + arr[np.random.randint(len(arr))]\n",
    "    sample_mean = mean_sum/sample_size\n",
    "    mean_sum = 0\n",
    "    return sample_mean\n",
    "\n",
    "def experiment(arr, sample_size = 100, number_of_samples=1000):\n",
    "    global means\n",
    "    for i in range(number_of_samples):\n",
    "        means.append(mean_experiment(arr, sample_size))\n",
    "    \n",
    "# Input :\n",
    "## Region \n",
    "### Default Values : 'A'\n",
    "\n",
    "## Subject\n",
    "### Default Value : 'fl'\n",
    "\n",
    "## Sample Size\n",
    "### Default Value : 100\n",
    "\n",
    "## Number of samples \n",
    "### Default Value : 1000\n",
    "\n",
    "## Confidence Level\n",
    "### Default Value : 95\n",
    "\n",
    "def confidence(region='A', subject='fl', sample_size=100, number_of_samples=1000, confidence_level = 95):\n",
    "    \n",
    "    # Documentation\n",
    "    print('________________________________________________________________')\n",
    "    print('These are the parameters which have been initialized by the user \\n Region: ' + str(region) + '\\n Subject: ' + str(subject) + '\\n Sample Size = ' + str(sample_size) + '\\n Number of Samples = ' + str(number_of_samples) +  '\\n Confidence Level = ' + str(confidence_level) + '\\n')\n",
    "    print('________________________________________________________________')\n",
    "    \n",
    "    # Pre-requisite data creation\n",
    "    if subject.lower() == 'fl':\n",
    "        if region.lower()=='all':\n",
    "            s1 = df[df.columns[0:4:3]]\n",
    "            s3 = s1.columns\n",
    "            scores = s3[-1]\n",
    "        \n",
    "        s1 = df[df.columns[0:4:3]]\n",
    "        s2 = s1[(s1.region == region)].columns\n",
    "        s3 = s1[(s1.region == region)]\n",
    "        scores = s2[-1]    \n",
    "    \n",
    "    elif subject.lower() == 'sl':\n",
    "        if region.lower()=='all':\n",
    "            s1 = df[df.columns[0:5:4]]\n",
    "            s3 = s1.columns\n",
    "            scores = s3[-1]\n",
    "        \n",
    "        s1 = df[df.columns[0:5:4]]\n",
    "        s2 = s1[(s1.region == region)].columns\n",
    "        s3 = s1[(s1.region == region)]\n",
    "        scores = s2[-1]\n",
    "        \n",
    "    elif subject.lower()=='math':\n",
    "        if region.lower()=='all':\n",
    "            s1 = df[df.columns[0:6:5]]\n",
    "            s3 = s1.columns\n",
    "            scores = s3[-1]\n",
    "        \n",
    "        s1 = df[df.columns[0:6:5]]\n",
    "        s2 = s1[(s1.region == region)].columns\n",
    "        s3 = s1[(s1.region == region)]\n",
    "        scores = s2[-1]\n",
    "        \n",
    "    elif subject.lower()=='sci':\n",
    "        if region.lower()=='all':\n",
    "            s1 = df[df.columns[0:7:6]]\n",
    "            s3 = s1.columns\n",
    "            scores = s3[-1]\n",
    "        \n",
    "        s1 = df[df.columns[0:7:6]]\n",
    "        s2 = s1[(s1.region == region)].columns\n",
    "        s3 = s1[(s1.region == region)]\n",
    "        scores = s2[-1]\n",
    "        \n",
    "    elif subject.lower()=='ss':\n",
    "        if region.lower()=='all':\n",
    "            s1 = df[df.columns[0:8:7]]\n",
    "            s3 = s1.columns\n",
    "            scores = s3[-1]\n",
    "        \n",
    "        s1 = df[df.columns[0:8:7]]\n",
    "        s2 = s1[(s1.region == region)].columns\n",
    "        s3 = s1[(s1.region == region)]\n",
    "        scores = s2[-1]\n",
    "        \n",
    "    # Variable declaration\n",
    "    global suma1, suma2\n",
    "    \n",
    "    # Approach 1\n",
    "    z = norm(0, 1)\n",
    "    alpha = 1 - confidence_level/100\n",
    "    z_star = z.ppf(1 - 0.5*alpha) # computes the inverse of the CDF\n",
    "    mu = s3[scores].mean()\n",
    "    var = s3[scores].var()\n",
    "    std = np.sqrt(var)\n",
    "\n",
    "    # Compute sample mean\n",
    "    for i in range(sample_size):\n",
    "        suma1 = suma1 + s3[scores][np.random.randint(len(s3[scores]))]\n",
    "    sample_mean = suma1/sample_size\n",
    "    suma1 = 0\n",
    "\n",
    "    ## Confidence interval\n",
    "    ### Lower limit \n",
    "    l = sample_mean - (z_star*std/np.sqrt(sample_size))\n",
    "\n",
    "    ### Upper limit\n",
    "    u = sample_mean + (z_star*std/np.sqrt(sample_size))\n",
    "    \n",
    "    ### Rouding off for better readability\n",
    "    print('The confidence interval with Approach 1 is (' + str(l.round(5)) + ','+ str(u.round(5)) + ')')\n",
    "    \n",
    "    # Approach 2\n",
    "    experiment(s3[scores], sample_size, number_of_samples)\n",
    "    \n",
    "    ## Calculations\n",
    "    store_val = 0.5*(100 - confidence_level)\n",
    "    lower, upper = np.percentile(means, [0 + store_val, 100 - store_val])\n",
    "    print('The confidence interval with Approach 2 is (' + str(lower.round(5)) + ','+ str(upper.round(5))+ ')')\n",
    "    print('\\n\\n')\n",
    "    \n",
    "    # Comparison DataFrame for better readability\n",
    "    print('________________________________________________________________')\n",
    "    d = {'Approach 1': [l, u], 'Approach 2': [lower, upper]}\n",
    "    df4 = pd.DataFrame(d, index=['Lower', 'Upper'])\n",
    "    print(df4)\n",
    "    \n",
    "confidence()"
   ]
  },
  {
   "cell_type": "markdown",
   "metadata": {},
   "source": [
    "### Using interact for better UI"
   ]
  },
  {
   "cell_type": "code",
   "execution_count": 90,
   "metadata": {},
   "outputs": [
    {
     "data": {
      "application/vnd.jupyter.widget-view+json": {
       "model_id": "88c2aa8759a64198b77bea242269a83e",
       "version_major": 2,
       "version_minor": 0
      },
      "text/plain": [
       "interactive(children=(Text(value='A', description='region'), Text(value='fl', description='subject'), IntSlide…"
      ]
     },
     "metadata": {},
     "output_type": "display_data"
    },
    {
     "data": {
      "text/plain": [
       "<function __main__.confidence(region='A', subject='fl', sample_size=100, number_of_samples=1000, confidence_level=95)>"
      ]
     },
     "execution_count": 90,
     "metadata": {},
     "output_type": "execute_result"
    }
   ],
   "source": [
    "interact(confidence, region='A', subject='fl', sample_size = 100, number_of_samples = 1000, confidence_level = 95)"
   ]
  },
  {
   "cell_type": "code",
   "execution_count": null,
   "metadata": {},
   "outputs": [],
   "source": []
  }
 ],
 "metadata": {
  "kernelspec": {
   "display_name": "Python 3",
   "language": "python",
   "name": "python3"
  },
  "language_info": {
   "codemirror_mode": {
    "name": "ipython",
    "version": 3
   },
   "file_extension": ".py",
   "mimetype": "text/x-python",
   "name": "python",
   "nbconvert_exporter": "python",
   "pygments_lexer": "ipython3",
   "version": "3.8.5"
  }
 },
 "nbformat": 4,
 "nbformat_minor": 4
}
